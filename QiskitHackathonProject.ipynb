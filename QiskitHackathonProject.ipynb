{
 "cells": [
  {
   "cell_type": "code",
   "execution_count": 1,
   "id": "dea5bb4c-0fea-4813-9dcd-5d29d4d2a140",
   "metadata": {
    "tags": []
   },
   "outputs": [
    {
     "name": "stdout",
     "output_type": "stream",
     "text": [
      "Requirement already satisfied: qiskit in /opt/conda/lib/python3.10/site-packages (0.44.2)\n",
      "Requirement already satisfied: qiskit-terra==0.25.2.1 in /opt/conda/lib/python3.10/site-packages (from qiskit) (0.25.2.1)\n",
      "Requirement already satisfied: rustworkx>=0.13.0 in /opt/conda/lib/python3.10/site-packages (from qiskit-terra==0.25.2.1->qiskit) (0.13.0)\n",
      "Requirement already satisfied: numpy>=1.17 in /opt/conda/lib/python3.10/site-packages (from qiskit-terra==0.25.2.1->qiskit) (1.23.5)\n",
      "Requirement already satisfied: ply>=3.10 in /opt/conda/lib/python3.10/site-packages (from qiskit-terra==0.25.2.1->qiskit) (3.11)\n",
      "Requirement already satisfied: psutil>=5 in /opt/conda/lib/python3.10/site-packages (from qiskit-terra==0.25.2.1->qiskit) (5.9.4)\n",
      "Requirement already satisfied: scipy>=1.5 in /opt/conda/lib/python3.10/site-packages (from qiskit-terra==0.25.2.1->qiskit) (1.9.3)\n",
      "Requirement already satisfied: sympy>=1.3 in /opt/conda/lib/python3.10/site-packages (from qiskit-terra==0.25.2.1->qiskit) (1.11.1)\n",
      "Requirement already satisfied: dill>=0.3 in /opt/conda/lib/python3.10/site-packages (from qiskit-terra==0.25.2.1->qiskit) (0.3.6)\n",
      "Requirement already satisfied: python-dateutil>=2.8.0 in /opt/conda/lib/python3.10/site-packages (from qiskit-terra==0.25.2.1->qiskit) (2.8.2)\n",
      "Requirement already satisfied: stevedore>=3.0.0 in /opt/conda/lib/python3.10/site-packages (from qiskit-terra==0.25.2.1->qiskit) (4.1.1)\n",
      "Requirement already satisfied: symengine<0.10,>=0.9 in /opt/conda/lib/python3.10/site-packages (from qiskit-terra==0.25.2.1->qiskit) (0.9.2)\n",
      "Requirement already satisfied: typing-extensions in /opt/conda/lib/python3.10/site-packages (from qiskit-terra==0.25.2.1->qiskit) (4.4.0)\n",
      "Requirement already satisfied: six>=1.5 in /opt/conda/lib/python3.10/site-packages (from python-dateutil>=2.8.0->qiskit-terra==0.25.2.1->qiskit) (1.16.0)\n",
      "Requirement already satisfied: pbr!=2.1.0,>=2.0.0 in /opt/conda/lib/python3.10/site-packages (from stevedore>=3.0.0->qiskit-terra==0.25.2.1->qiskit) (5.11.1)\n",
      "Requirement already satisfied: mpmath>=0.19 in /opt/conda/lib/python3.10/site-packages (from sympy>=1.3->qiskit-terra==0.25.2.1->qiskit) (1.2.1)\n",
      "Requirement already satisfied: qiskit_optimization in /opt/conda/lib/python3.10/site-packages (0.5.0)\n",
      "Requirement already satisfied: qiskit-terra>=0.22.4 in /opt/conda/lib/python3.10/site-packages (from qiskit_optimization) (0.25.2.1)\n",
      "Requirement already satisfied: scipy>=1.4 in /opt/conda/lib/python3.10/site-packages (from qiskit_optimization) (1.9.3)\n",
      "Requirement already satisfied: numpy>=1.17 in /opt/conda/lib/python3.10/site-packages (from qiskit_optimization) (1.23.5)\n",
      "Requirement already satisfied: docplex!=2.24.231,>=2.21.207 in /opt/conda/lib/python3.10/site-packages (from qiskit_optimization) (2.25.236)\n",
      "Requirement already satisfied: setuptools>=40.1.0 in /opt/conda/lib/python3.10/site-packages (from qiskit_optimization) (65.5.1)\n",
      "Requirement already satisfied: networkx>=2.6.3 in /opt/conda/lib/python3.10/site-packages (from qiskit_optimization) (2.8.8)\n",
      "Requirement already satisfied: six in /opt/conda/lib/python3.10/site-packages (from docplex!=2.24.231,>=2.21.207->qiskit_optimization) (1.16.0)\n",
      "Requirement already satisfied: rustworkx>=0.13.0 in /opt/conda/lib/python3.10/site-packages (from qiskit-terra>=0.22.4->qiskit_optimization) (0.13.0)\n",
      "Requirement already satisfied: ply>=3.10 in /opt/conda/lib/python3.10/site-packages (from qiskit-terra>=0.22.4->qiskit_optimization) (3.11)\n",
      "Requirement already satisfied: psutil>=5 in /opt/conda/lib/python3.10/site-packages (from qiskit-terra>=0.22.4->qiskit_optimization) (5.9.4)\n",
      "Requirement already satisfied: sympy>=1.3 in /opt/conda/lib/python3.10/site-packages (from qiskit-terra>=0.22.4->qiskit_optimization) (1.11.1)\n",
      "Requirement already satisfied: dill>=0.3 in /opt/conda/lib/python3.10/site-packages (from qiskit-terra>=0.22.4->qiskit_optimization) (0.3.6)\n",
      "Requirement already satisfied: python-dateutil>=2.8.0 in /opt/conda/lib/python3.10/site-packages (from qiskit-terra>=0.22.4->qiskit_optimization) (2.8.2)\n",
      "Requirement already satisfied: stevedore>=3.0.0 in /opt/conda/lib/python3.10/site-packages (from qiskit-terra>=0.22.4->qiskit_optimization) (4.1.1)\n",
      "Requirement already satisfied: symengine<0.10,>=0.9 in /opt/conda/lib/python3.10/site-packages (from qiskit-terra>=0.22.4->qiskit_optimization) (0.9.2)\n",
      "Requirement already satisfied: typing-extensions in /opt/conda/lib/python3.10/site-packages (from qiskit-terra>=0.22.4->qiskit_optimization) (4.4.0)\n",
      "Requirement already satisfied: pbr!=2.1.0,>=2.0.0 in /opt/conda/lib/python3.10/site-packages (from stevedore>=3.0.0->qiskit-terra>=0.22.4->qiskit_optimization) (5.11.1)\n",
      "Requirement already satisfied: mpmath>=0.19 in /opt/conda/lib/python3.10/site-packages (from sympy>=1.3->qiskit-terra>=0.22.4->qiskit_optimization) (1.2.1)\n",
      "Requirement already satisfied: qiskit_algorithms in /opt/conda/lib/python3.10/site-packages (0.2.1)\n",
      "Requirement already satisfied: qiskit-terra>=0.24 in /opt/conda/lib/python3.10/site-packages (from qiskit_algorithms) (0.25.2.1)\n",
      "Requirement already satisfied: scipy>=1.4 in /opt/conda/lib/python3.10/site-packages (from qiskit_algorithms) (1.9.3)\n",
      "Requirement already satisfied: numpy>=1.17 in /opt/conda/lib/python3.10/site-packages (from qiskit_algorithms) (1.23.5)\n",
      "Requirement already satisfied: rustworkx>=0.13.0 in /opt/conda/lib/python3.10/site-packages (from qiskit-terra>=0.24->qiskit_algorithms) (0.13.0)\n",
      "Requirement already satisfied: ply>=3.10 in /opt/conda/lib/python3.10/site-packages (from qiskit-terra>=0.24->qiskit_algorithms) (3.11)\n",
      "Requirement already satisfied: psutil>=5 in /opt/conda/lib/python3.10/site-packages (from qiskit-terra>=0.24->qiskit_algorithms) (5.9.4)\n",
      "Requirement already satisfied: sympy>=1.3 in /opt/conda/lib/python3.10/site-packages (from qiskit-terra>=0.24->qiskit_algorithms) (1.11.1)\n",
      "Requirement already satisfied: dill>=0.3 in /opt/conda/lib/python3.10/site-packages (from qiskit-terra>=0.24->qiskit_algorithms) (0.3.6)\n",
      "Requirement already satisfied: python-dateutil>=2.8.0 in /opt/conda/lib/python3.10/site-packages (from qiskit-terra>=0.24->qiskit_algorithms) (2.8.2)\n",
      "Requirement already satisfied: stevedore>=3.0.0 in /opt/conda/lib/python3.10/site-packages (from qiskit-terra>=0.24->qiskit_algorithms) (4.1.1)\n",
      "Requirement already satisfied: symengine<0.10,>=0.9 in /opt/conda/lib/python3.10/site-packages (from qiskit-terra>=0.24->qiskit_algorithms) (0.9.2)\n",
      "Requirement already satisfied: typing-extensions in /opt/conda/lib/python3.10/site-packages (from qiskit-terra>=0.24->qiskit_algorithms) (4.4.0)\n",
      "Requirement already satisfied: six>=1.5 in /opt/conda/lib/python3.10/site-packages (from python-dateutil>=2.8.0->qiskit-terra>=0.24->qiskit_algorithms) (1.16.0)\n",
      "Requirement already satisfied: pbr!=2.1.0,>=2.0.0 in /opt/conda/lib/python3.10/site-packages (from stevedore>=3.0.0->qiskit-terra>=0.24->qiskit_algorithms) (5.11.1)\n",
      "Requirement already satisfied: mpmath>=0.19 in /opt/conda/lib/python3.10/site-packages (from sympy>=1.3->qiskit-terra>=0.24->qiskit_algorithms) (1.2.1)\n"
     ]
    }
   ],
   "source": [
    "!pip install --upgrade qiskit\n",
    "!pip install qiskit_optimization\n",
    "!pip install qiskit_algorithms"
   ]
  },
  {
   "cell_type": "code",
   "execution_count": 2,
   "id": "882cebf8-5249-4b86-86bb-f125ad68441e",
   "metadata": {
    "tags": []
   },
   "outputs": [
    {
     "name": "stderr",
     "output_type": "stream",
     "text": [
      "/tmp/ipykernel_983/817090657.py:21: DeprecationWarning: ``qiskit.algorithms`` has been migrated to an independent package: https://github.com/qiskit-community/qiskit-algorithms. The ``qiskit.algorithms`` import path is deprecated as of qiskit-terra 0.25.0 and will be removed no earlier than 3 months after the release date. Please run ``pip install qiskit_algorithms`` and use ``import qiskit_algorithms`` instead.\n",
      "  from qiskit.algorithms import QAOA\n"
     ]
    }
   ],
   "source": [
    "# Importing standard Qiskit libraries\n",
    "from qiskit import QuantumCircuit, transpile\n",
    "from qiskit.tools.jupyter import *\n",
    "from qiskit.visualization import *\n",
    "from ibm_quantum_widgets import *\n",
    "\n",
    "# qiskit-ibmq-provider has been deprecated.\n",
    "# Please see the Migration Guides in https://ibm.biz/provider_migration_guide for more detail.\n",
    "from qiskit_ibm_runtime import QiskitRuntimeService, Sampler, Estimator, Session, Options\n",
    "\n",
    "# Loading your IBM Quantum account(s)\n",
    "service = QiskitRuntimeService(channel=\"ibm_quantum\")\n",
    "\n",
    "# Invoke a primitive. For more details see https://qiskit.org/documentation/partners/qiskit_ibm_runtime/tutorials.html\n",
    "# result = Sampler(\"ibmq_qasm_simulator\").run(circuits).result()\n",
    "import numpy as np\n",
    "import matplotlib.pyplot as plt\n",
    "from mpl_toolkits.mplot3d import Axes3D\n",
    "import random\n",
    "\n",
    "from qiskit.algorithms import QAOA\n",
    "from qiskit.algorithms.optimizers import COBYLA\n",
    "from qiskit_optimization.algorithms import MinimumEigenOptimizer\n",
    "from qiskit_optimization import QuadraticProgram\n",
    "from qiskit import Aer\n",
    "from qiskit.utils import QuantumInstance\n"
   ]
  },
  {
   "cell_type": "code",
   "execution_count": 3,
   "id": "e64bf40d-bc8c-402b-987b-da51053b9737",
   "metadata": {
    "tags": []
   },
   "outputs": [],
   "source": [
    "def load_environment_data(grid_size=(3,3,3), waypoints=[(2,0,0), (0,2,2)], no_fly_zones=[((1,1,1), (1,1,1))]):\n",
    "    \"\"\"\n",
    "    Load the environment data including the 3D grid, waypoints, and no-fly zones.\n",
    "    \n",
    "    Parameters:\n",
    "    - grid_size: tuple(int, int, int), specifying the dimensions of the 3D grid (default: (10, 10, 10))\n",
    "    - waypoints: list of tuple(int, int, int), specifying the waypoints the drone has to visit (default: [(2, 2, 2), (7, 7, 7), (2, 7, 2)])\n",
    "    - no_fly_zones: list of tuple(start, end), specifying the no-fly zones, each represented by starting and ending coordinates (default: [((4, 4, 4), (5, 5, 5))])\n",
    "\n",
    "    Returns:\n",
    "    - grid: 3D NumPy array, representing the environment\n",
    "    \"\"\"\n",
    "\n",
    "    # Initialize a 3D grid with dimensions as per grid_size\n",
    "    grid = np.zeros(grid_size)\n",
    "\n",
    "    # Mark the waypoints with '1'\n",
    "    for x, y, z in waypoints:\n",
    "        grid[x, y, z] = 1\n",
    "\n",
    "    # Mark the no-fly zones with '-1'\n",
    "    for zone in no_fly_zones:\n",
    "        start, end = zone\n",
    "        for x in range(start[0], end[0] + 1):\n",
    "            for y in range(start[1], end[1] + 1):\n",
    "                for z in range(start[2], end[2] + 1):\n",
    "                    grid[x, y, z] = -1\n",
    "\n",
    "    return grid\n"
   ]
  },
  {
   "cell_type": "code",
   "execution_count": 4,
   "id": "91e67dbf-108a-47f5-ade1-83a57b5cc258",
   "metadata": {},
   "outputs": [],
   "source": [
    "def initialize_drone_state(grid, start_position=(0, 0, 0)):\n",
    "    \"\"\"\n",
    "    Initialize the drone's state at the starting position within the 3D grid.\n",
    "    \n",
    "    Parameters:\n",
    "    - grid: 3D NumPy array, representing the environment\n",
    "    - start_position: tuple(int, int, int), specifying the initial position of the drone (default: (0, 0, 0))\n",
    "\n",
    "    Returns:\n",
    "    - drone_position: tuple(int, int, int), representing the drone's current coordinates\n",
    "    \"\"\"\n",
    "    \n",
    "    # Ensure the starting position is not a waypoint or in a no-fly zone\n",
    "    if grid[start_position] != 0:\n",
    "        raise ValueError(\"Invalid starting position: Either a waypoint or a no-fly zone.\")\n",
    "\n",
    "    drone_position = start_position\n",
    "\n",
    "    return drone_position\n"
   ]
  },
  {
   "cell_type": "code",
   "execution_count": 5,
   "id": "41d6c61c-b1d5-494d-9b38-f3910e396d9f",
   "metadata": {},
   "outputs": [],
   "source": [
    "def calculate_cost(current_state, next_move, grid):\n",
    "    \"\"\"\n",
    "    Load the 3D grid and calculate the cost for a move from current state to next state.\n",
    "\n",
    "    Parameters:\n",
    "    - current_state: tuple(int, int, int), specifying the current coordinates (x, y, z).\n",
    "    - next_move: tuple(int, int, int), specifying the next coordinates (x, y, z).\n",
    "    - grid: 3D NumPy array, representing the environment.\n",
    "\n",
    "    Returns:\n",
    "    - float: cost of the move, returns 'inf' if the move is not allowed.\n",
    "    \"\"\"\n",
    "    if not constraints_check(next_move, grid):\n",
    "        return float('inf')  # Assign infinite cost if move is not allowed\n",
    "    \n",
    "    # Using Euclidean distance as the cost metric\n",
    "    cost = np.linalg.norm(np.array(next_move) - np.array(current_state))\n",
    "    \n",
    "    return cost\n"
   ]
  },
  {
   "cell_type": "code",
   "execution_count": 6,
   "id": "c1bd8384-7fc4-4ac3-be34-3b5a43c537f4",
   "metadata": {},
   "outputs": [],
   "source": [
    "def constraints_check(move, grid):\n",
    "    \"\"\"\n",
    "    Check constraints for a proposed move in the 3D grid.\n",
    "\n",
    "    Parameters:\n",
    "    - move: tuple(int, int, int), specifying the next coordinates (x, y, z).\n",
    "    - grid: 3D NumPy array, representing the environment.\n",
    "\n",
    "    Returns:\n",
    "    - bool: True if move is allowed, otherwise False.\n",
    "\n",
    "    \"\"\"\n",
    "    x, y, z = move\n",
    "    grid_shape = grid.shape\n",
    "    \n",
    "    # Check if the move is inside the grid boundaries\n",
    "    if x < 0 or x >= grid_shape[0] or y < 0 or y >= grid_shape[1] or z < 0 or z >= grid_shape[2]:\n",
    "        return False  # Move is outside the grid\n",
    "    \n",
    "    # Check if the move enters a no-fly zone\n",
    "    if grid[x, y, z] == -1:\n",
    "        return False  # Move enters a no-fly zone\n",
    "    \n",
    "    return True  # Move is okay\n"
   ]
  },
  {
   "cell_type": "code",
   "execution_count": 7,
   "id": "f2676a31-90b3-47f5-ad20-ced93f482d8c",
   "metadata": {},
   "outputs": [],
   "source": [
    "def quantum_optimization(grid): #Uses Quantum Approximate Optimization Algorithm to find the path that minimizes the total cost\n",
    "    \"\"\"\n",
    "    Find the optimal path through the 3D grid using Quantum Approximate Optimization Algorithm (QAOA).\n",
    "\n",
    "    Parameters:\n",
    "    - grid: 3D NumPy array, representing the environment.\n",
    "\n",
    "    Returns:\n",
    "    - list of tuple(int, int, int): list of coordinates forming the optimal path through the grid.\n",
    "\n",
    "    \"\"\"\n",
    "    #Initialize Quadratic Program\n",
    "    qp = QuadraticProgram()\n",
    "\n",
    "    # Variable Declaration\n",
    "    for i in range(grid.shape[0]):\n",
    "        for j in range(grid.shape[1]):\n",
    "            for k in range(grid.shape[2]):\n",
    "                qp.binary_var(name=f\"x_{i}_{j}_{k}\")\n",
    "\n",
    "    # Create Quadratic Program \n",
    "    linear = {}\n",
    "    quadratic = {}\n",
    "    for i in range(grid.shape[0]):\n",
    "        for j in range(grid.shape[1]):\n",
    "            for k in range(grid.shape[2]):\n",
    "                current_state = (i, j, k)\n",
    "                for dx in [-1, 0, 1]:\n",
    "                    for dy in [-1, 0, 1]:\n",
    "                        for dz in [-1, 0, 1]:\n",
    "                            next_move = (i + dx, j + dy, k + dz)\n",
    "                            if constraints_check(next_move, grid):  # Check if move is allowed\n",
    "                                cost = calculate_cost(current_state, next_move, grid)\n",
    "                                var1 = f\"x_{i}_{j}_{k}\"\n",
    "                                var2 = f\"x_{i+dx}_{j+dy}_{k+dz}\"\n",
    "                                if var1 != var2:\n",
    "                                    quadratic[(var1, var2)] = cost\n",
    "    qp.minimize(linear=linear, quadratic=quadratic)\n",
    "    \n",
    "    # Set up quantum backend\n",
    "    backend = Aer.get_backend('qasm_simulator')\n",
    "    quantum_instance = QuantumInstance(backend)\n",
    "    \n",
    "    # Initialize COBYLA and QAOA \n",
    "    optimizer = COBYLA()\n",
    "    qaoa = QAOA(optimizer=optimizer, quantum_instance=quantum_instance)\n",
    "\n",
    "    # Initialize MinimumEigenOptimizer\n",
    "    meo = MinimumEigenOptimizer(qaoa)\n",
    "\n",
    "    # Solve the QuadraticProgram\n",
    "    result = meo.solve(qp)\n",
    "    \n",
    "    # Extract Optimal Path\n",
    "    optimal_path = []\n",
    "    for i in range(grid.shape[0]):\n",
    "        for j in range(grid.shape[1]):\n",
    "            for k in range(grid.shape[2]):\n",
    "                if result.variables_dict.get(f\"x_{i}_{j}_{k}\") == 1:\n",
    "                    optimal_path.append((i, j, k))\n",
    "\n",
    "    return optimal_path"
   ]
  },
  {
   "cell_type": "code",
   "execution_count": 9,
   "id": "b947c1af-9ad3-4890-92d8-60ce1eb36d1e",
   "metadata": {
    "tags": []
   },
   "outputs": [
    {
     "name": "stderr",
     "output_type": "stream",
     "text": [
      "/tmp/ipykernel_983/855401782.py:42: DeprecationWarning: The class ``qiskit.utils.quantum_instance.QuantumInstance`` is deprecated as of qiskit-terra 0.24.0. It will be removed no earlier than 3 months after the release date. For code migration guidelines, visit https://qisk.it/qi_migration.\n",
      "  quantum_instance = QuantumInstance(backend)\n",
      "/tmp/ipykernel_983/855401782.py:46: DeprecationWarning: The class ``qiskit.algorithms.minimum_eigen_solvers.qaoa.QAOA`` is deprecated as of qiskit-terra 0.24.0. It will be removed no earlier than 3 months after the release date. Instead, use the class ``qiskit.algorithms.minimum_eigensolvers.QAOA``. See https://qisk.it/algo_migration for a migration guide.\n",
      "  qaoa = QAOA(optimizer=optimizer, quantum_instance=quantum_instance)\n"
     ]
    },
    {
     "name": "stdout",
     "output_type": "stream",
     "text": [
      "Optimal Path: [(0, 1, 2), (1, 0, 0), (1, 2, 0), (2, 0, 1), (2, 2, 2)]\n"
     ]
    }
   ],
   "source": [
    "grid = load_environment_data()\n",
    "optimal_path = quantum_optimization(grid)\n",
    "print(\"Optimal Path:\", optimal_path)"
   ]
  },
  {
   "cell_type": "code",
   "execution_count": null,
   "id": "915fa4eb-8a16-4442-a01f-5531b49debb9",
   "metadata": {},
   "outputs": [],
   "source": []
  },
  {
   "cell_type": "code",
   "execution_count": null,
   "id": "0ff677b3-cbbd-443d-96e2-95e45c3dc9c9",
   "metadata": {},
   "outputs": [],
   "source": []
  },
  {
   "cell_type": "code",
   "execution_count": null,
   "id": "2d9120ef-ef7c-4e95-9f25-8476440f4828",
   "metadata": {},
   "outputs": [],
   "source": []
  }
 ],
 "metadata": {
  "kernelspec": {
   "display_name": "Python 3 (ipykernel)",
   "language": "python",
   "name": "python3"
  },
  "language_info": {
   "codemirror_mode": {
    "name": "ipython",
    "version": 3
   },
   "file_extension": ".py",
   "mimetype": "text/x-python",
   "name": "python",
   "nbconvert_exporter": "python",
   "pygments_lexer": "ipython3",
   "version": "3.10.8"
  },
  "widgets": {
   "application/vnd.jupyter.widget-state+json": {
    "state": {},
    "version_major": 2,
    "version_minor": 0
   }
  }
 },
 "nbformat": 4,
 "nbformat_minor": 5
}
